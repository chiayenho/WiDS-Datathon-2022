{
 "cells": [
  {
   "cell_type": "code",
   "execution_count": 1,
   "metadata": {},
   "outputs": [],
   "source": [
    "import pandas as pd\n",
    "import numpy as np\n",
    "import matplotlib.pyplot as plt\n",
    "import seaborn as sns\n",
    "from sklearn.metrics import mean_squared_error"
   ]
  },
  {
   "cell_type": "code",
   "execution_count": 2,
   "metadata": {},
   "outputs": [],
   "source": [
    "df = pd.read_csv('train.csv')\n",
    "test_data = pd.read_csv('test.csv')"
   ]
  },
  {
   "cell_type": "code",
   "execution_count": 3,
   "metadata": {},
   "outputs": [
    {
     "data": {
      "text/html": [
       "<div>\n",
       "<style scoped>\n",
       "    .dataframe tbody tr th:only-of-type {\n",
       "        vertical-align: middle;\n",
       "    }\n",
       "\n",
       "    .dataframe tbody tr th {\n",
       "        vertical-align: top;\n",
       "    }\n",
       "\n",
       "    .dataframe thead th {\n",
       "        text-align: right;\n",
       "    }\n",
       "</style>\n",
       "<table border=\"1\" class=\"dataframe\">\n",
       "  <thead>\n",
       "    <tr style=\"text-align: right;\">\n",
       "      <th></th>\n",
       "      <th>Year_Factor</th>\n",
       "      <th>State_Factor</th>\n",
       "      <th>building_class</th>\n",
       "      <th>facility_type</th>\n",
       "      <th>floor_area</th>\n",
       "      <th>year_built</th>\n",
       "      <th>energy_star_rating</th>\n",
       "      <th>ELEVATION</th>\n",
       "      <th>january_min_temp</th>\n",
       "      <th>january_avg_temp</th>\n",
       "      <th>...</th>\n",
       "      <th>days_above_80F</th>\n",
       "      <th>days_above_90F</th>\n",
       "      <th>days_above_100F</th>\n",
       "      <th>days_above_110F</th>\n",
       "      <th>direction_max_wind_speed</th>\n",
       "      <th>direction_peak_wind_speed</th>\n",
       "      <th>max_wind_speed</th>\n",
       "      <th>days_with_fog</th>\n",
       "      <th>site_eui</th>\n",
       "      <th>id</th>\n",
       "    </tr>\n",
       "  </thead>\n",
       "  <tbody>\n",
       "    <tr>\n",
       "      <th>0</th>\n",
       "      <td>1</td>\n",
       "      <td>State_1</td>\n",
       "      <td>Commercial</td>\n",
       "      <td>Grocery_store_or_food_market</td>\n",
       "      <td>61242.0</td>\n",
       "      <td>1942.0</td>\n",
       "      <td>11.0</td>\n",
       "      <td>2.4</td>\n",
       "      <td>36</td>\n",
       "      <td>50.500000</td>\n",
       "      <td>...</td>\n",
       "      <td>14</td>\n",
       "      <td>0</td>\n",
       "      <td>0</td>\n",
       "      <td>0</td>\n",
       "      <td>1.0</td>\n",
       "      <td>1.0</td>\n",
       "      <td>1.0</td>\n",
       "      <td>NaN</td>\n",
       "      <td>248.682615</td>\n",
       "      <td>0</td>\n",
       "    </tr>\n",
       "    <tr>\n",
       "      <th>1</th>\n",
       "      <td>1</td>\n",
       "      <td>State_1</td>\n",
       "      <td>Commercial</td>\n",
       "      <td>Warehouse_Distribution_or_Shipping_center</td>\n",
       "      <td>274000.0</td>\n",
       "      <td>1955.0</td>\n",
       "      <td>45.0</td>\n",
       "      <td>1.8</td>\n",
       "      <td>36</td>\n",
       "      <td>50.500000</td>\n",
       "      <td>...</td>\n",
       "      <td>14</td>\n",
       "      <td>0</td>\n",
       "      <td>0</td>\n",
       "      <td>0</td>\n",
       "      <td>1.0</td>\n",
       "      <td>NaN</td>\n",
       "      <td>1.0</td>\n",
       "      <td>12.0</td>\n",
       "      <td>26.500150</td>\n",
       "      <td>1</td>\n",
       "    </tr>\n",
       "    <tr>\n",
       "      <th>2</th>\n",
       "      <td>1</td>\n",
       "      <td>State_1</td>\n",
       "      <td>Commercial</td>\n",
       "      <td>Retail_Enclosed_mall</td>\n",
       "      <td>280025.0</td>\n",
       "      <td>1951.0</td>\n",
       "      <td>97.0</td>\n",
       "      <td>1.8</td>\n",
       "      <td>36</td>\n",
       "      <td>50.500000</td>\n",
       "      <td>...</td>\n",
       "      <td>14</td>\n",
       "      <td>0</td>\n",
       "      <td>0</td>\n",
       "      <td>0</td>\n",
       "      <td>1.0</td>\n",
       "      <td>NaN</td>\n",
       "      <td>1.0</td>\n",
       "      <td>12.0</td>\n",
       "      <td>24.693619</td>\n",
       "      <td>2</td>\n",
       "    </tr>\n",
       "    <tr>\n",
       "      <th>3</th>\n",
       "      <td>1</td>\n",
       "      <td>State_1</td>\n",
       "      <td>Commercial</td>\n",
       "      <td>Education_Other_classroom</td>\n",
       "      <td>55325.0</td>\n",
       "      <td>1980.0</td>\n",
       "      <td>46.0</td>\n",
       "      <td>1.8</td>\n",
       "      <td>36</td>\n",
       "      <td>50.500000</td>\n",
       "      <td>...</td>\n",
       "      <td>14</td>\n",
       "      <td>0</td>\n",
       "      <td>0</td>\n",
       "      <td>0</td>\n",
       "      <td>1.0</td>\n",
       "      <td>NaN</td>\n",
       "      <td>1.0</td>\n",
       "      <td>12.0</td>\n",
       "      <td>48.406926</td>\n",
       "      <td>3</td>\n",
       "    </tr>\n",
       "    <tr>\n",
       "      <th>4</th>\n",
       "      <td>1</td>\n",
       "      <td>State_1</td>\n",
       "      <td>Commercial</td>\n",
       "      <td>Warehouse_Nonrefrigerated</td>\n",
       "      <td>66000.0</td>\n",
       "      <td>1985.0</td>\n",
       "      <td>100.0</td>\n",
       "      <td>2.4</td>\n",
       "      <td>36</td>\n",
       "      <td>50.500000</td>\n",
       "      <td>...</td>\n",
       "      <td>14</td>\n",
       "      <td>0</td>\n",
       "      <td>0</td>\n",
       "      <td>0</td>\n",
       "      <td>1.0</td>\n",
       "      <td>1.0</td>\n",
       "      <td>1.0</td>\n",
       "      <td>NaN</td>\n",
       "      <td>3.899395</td>\n",
       "      <td>4</td>\n",
       "    </tr>\n",
       "    <tr>\n",
       "      <th>...</th>\n",
       "      <td>...</td>\n",
       "      <td>...</td>\n",
       "      <td>...</td>\n",
       "      <td>...</td>\n",
       "      <td>...</td>\n",
       "      <td>...</td>\n",
       "      <td>...</td>\n",
       "      <td>...</td>\n",
       "      <td>...</td>\n",
       "      <td>...</td>\n",
       "      <td>...</td>\n",
       "      <td>...</td>\n",
       "      <td>...</td>\n",
       "      <td>...</td>\n",
       "      <td>...</td>\n",
       "      <td>...</td>\n",
       "      <td>...</td>\n",
       "      <td>...</td>\n",
       "      <td>...</td>\n",
       "      <td>...</td>\n",
       "      <td>...</td>\n",
       "    </tr>\n",
       "    <tr>\n",
       "      <th>75752</th>\n",
       "      <td>6</td>\n",
       "      <td>State_11</td>\n",
       "      <td>Commercial</td>\n",
       "      <td>Office_Uncategorized</td>\n",
       "      <td>20410.0</td>\n",
       "      <td>1995.0</td>\n",
       "      <td>8.0</td>\n",
       "      <td>36.6</td>\n",
       "      <td>28</td>\n",
       "      <td>43.451613</td>\n",
       "      <td>...</td>\n",
       "      <td>25</td>\n",
       "      <td>3</td>\n",
       "      <td>0</td>\n",
       "      <td>0</td>\n",
       "      <td>NaN</td>\n",
       "      <td>NaN</td>\n",
       "      <td>NaN</td>\n",
       "      <td>NaN</td>\n",
       "      <td>132.918411</td>\n",
       "      <td>75752</td>\n",
       "    </tr>\n",
       "    <tr>\n",
       "      <th>75753</th>\n",
       "      <td>6</td>\n",
       "      <td>State_11</td>\n",
       "      <td>Residential</td>\n",
       "      <td>5plus_Unit_Building</td>\n",
       "      <td>40489.0</td>\n",
       "      <td>1910.0</td>\n",
       "      <td>98.0</td>\n",
       "      <td>36.6</td>\n",
       "      <td>28</td>\n",
       "      <td>43.451613</td>\n",
       "      <td>...</td>\n",
       "      <td>25</td>\n",
       "      <td>3</td>\n",
       "      <td>0</td>\n",
       "      <td>0</td>\n",
       "      <td>NaN</td>\n",
       "      <td>NaN</td>\n",
       "      <td>NaN</td>\n",
       "      <td>NaN</td>\n",
       "      <td>39.483672</td>\n",
       "      <td>75753</td>\n",
       "    </tr>\n",
       "    <tr>\n",
       "      <th>75754</th>\n",
       "      <td>6</td>\n",
       "      <td>State_11</td>\n",
       "      <td>Commercial</td>\n",
       "      <td>Commercial_Other</td>\n",
       "      <td>28072.0</td>\n",
       "      <td>1917.0</td>\n",
       "      <td>NaN</td>\n",
       "      <td>36.6</td>\n",
       "      <td>26</td>\n",
       "      <td>36.612903</td>\n",
       "      <td>...</td>\n",
       "      <td>6</td>\n",
       "      <td>0</td>\n",
       "      <td>0</td>\n",
       "      <td>0</td>\n",
       "      <td>NaN</td>\n",
       "      <td>NaN</td>\n",
       "      <td>NaN</td>\n",
       "      <td>NaN</td>\n",
       "      <td>48.404398</td>\n",
       "      <td>75754</td>\n",
       "    </tr>\n",
       "    <tr>\n",
       "      <th>75755</th>\n",
       "      <td>6</td>\n",
       "      <td>State_11</td>\n",
       "      <td>Commercial</td>\n",
       "      <td>Commercial_Other</td>\n",
       "      <td>53575.0</td>\n",
       "      <td>2012.0</td>\n",
       "      <td>NaN</td>\n",
       "      <td>36.6</td>\n",
       "      <td>26</td>\n",
       "      <td>36.612903</td>\n",
       "      <td>...</td>\n",
       "      <td>6</td>\n",
       "      <td>0</td>\n",
       "      <td>0</td>\n",
       "      <td>0</td>\n",
       "      <td>NaN</td>\n",
       "      <td>NaN</td>\n",
       "      <td>NaN</td>\n",
       "      <td>NaN</td>\n",
       "      <td>592.022750</td>\n",
       "      <td>75755</td>\n",
       "    </tr>\n",
       "    <tr>\n",
       "      <th>75756</th>\n",
       "      <td>6</td>\n",
       "      <td>State_11</td>\n",
       "      <td>Residential</td>\n",
       "      <td>2to4_Unit_Building</td>\n",
       "      <td>23888.0</td>\n",
       "      <td>1974.0</td>\n",
       "      <td>51.0</td>\n",
       "      <td>36.6</td>\n",
       "      <td>27</td>\n",
       "      <td>36.935484</td>\n",
       "      <td>...</td>\n",
       "      <td>16</td>\n",
       "      <td>0</td>\n",
       "      <td>0</td>\n",
       "      <td>0</td>\n",
       "      <td>NaN</td>\n",
       "      <td>NaN</td>\n",
       "      <td>NaN</td>\n",
       "      <td>NaN</td>\n",
       "      <td>29.154684</td>\n",
       "      <td>75756</td>\n",
       "    </tr>\n",
       "  </tbody>\n",
       "</table>\n",
       "<p>75757 rows × 64 columns</p>\n",
       "</div>"
      ],
      "text/plain": [
       "       Year_Factor State_Factor building_class  \\\n",
       "0                1      State_1     Commercial   \n",
       "1                1      State_1     Commercial   \n",
       "2                1      State_1     Commercial   \n",
       "3                1      State_1     Commercial   \n",
       "4                1      State_1     Commercial   \n",
       "...            ...          ...            ...   \n",
       "75752            6     State_11     Commercial   \n",
       "75753            6     State_11    Residential   \n",
       "75754            6     State_11     Commercial   \n",
       "75755            6     State_11     Commercial   \n",
       "75756            6     State_11    Residential   \n",
       "\n",
       "                                   facility_type  floor_area  year_built  \\\n",
       "0                   Grocery_store_or_food_market     61242.0      1942.0   \n",
       "1      Warehouse_Distribution_or_Shipping_center    274000.0      1955.0   \n",
       "2                           Retail_Enclosed_mall    280025.0      1951.0   \n",
       "3                      Education_Other_classroom     55325.0      1980.0   \n",
       "4                      Warehouse_Nonrefrigerated     66000.0      1985.0   \n",
       "...                                          ...         ...         ...   \n",
       "75752                       Office_Uncategorized     20410.0      1995.0   \n",
       "75753                        5plus_Unit_Building     40489.0      1910.0   \n",
       "75754                           Commercial_Other     28072.0      1917.0   \n",
       "75755                           Commercial_Other     53575.0      2012.0   \n",
       "75756                         2to4_Unit_Building     23888.0      1974.0   \n",
       "\n",
       "       energy_star_rating  ELEVATION  january_min_temp  january_avg_temp  ...  \\\n",
       "0                    11.0        2.4                36         50.500000  ...   \n",
       "1                    45.0        1.8                36         50.500000  ...   \n",
       "2                    97.0        1.8                36         50.500000  ...   \n",
       "3                    46.0        1.8                36         50.500000  ...   \n",
       "4                   100.0        2.4                36         50.500000  ...   \n",
       "...                   ...        ...               ...               ...  ...   \n",
       "75752                 8.0       36.6                28         43.451613  ...   \n",
       "75753                98.0       36.6                28         43.451613  ...   \n",
       "75754                 NaN       36.6                26         36.612903  ...   \n",
       "75755                 NaN       36.6                26         36.612903  ...   \n",
       "75756                51.0       36.6                27         36.935484  ...   \n",
       "\n",
       "       days_above_80F  days_above_90F  days_above_100F  days_above_110F  \\\n",
       "0                  14               0                0                0   \n",
       "1                  14               0                0                0   \n",
       "2                  14               0                0                0   \n",
       "3                  14               0                0                0   \n",
       "4                  14               0                0                0   \n",
       "...               ...             ...              ...              ...   \n",
       "75752              25               3                0                0   \n",
       "75753              25               3                0                0   \n",
       "75754               6               0                0                0   \n",
       "75755               6               0                0                0   \n",
       "75756              16               0                0                0   \n",
       "\n",
       "       direction_max_wind_speed  direction_peak_wind_speed  max_wind_speed  \\\n",
       "0                           1.0                        1.0             1.0   \n",
       "1                           1.0                        NaN             1.0   \n",
       "2                           1.0                        NaN             1.0   \n",
       "3                           1.0                        NaN             1.0   \n",
       "4                           1.0                        1.0             1.0   \n",
       "...                         ...                        ...             ...   \n",
       "75752                       NaN                        NaN             NaN   \n",
       "75753                       NaN                        NaN             NaN   \n",
       "75754                       NaN                        NaN             NaN   \n",
       "75755                       NaN                        NaN             NaN   \n",
       "75756                       NaN                        NaN             NaN   \n",
       "\n",
       "       days_with_fog    site_eui     id  \n",
       "0                NaN  248.682615      0  \n",
       "1               12.0   26.500150      1  \n",
       "2               12.0   24.693619      2  \n",
       "3               12.0   48.406926      3  \n",
       "4                NaN    3.899395      4  \n",
       "...              ...         ...    ...  \n",
       "75752            NaN  132.918411  75752  \n",
       "75753            NaN   39.483672  75753  \n",
       "75754            NaN   48.404398  75754  \n",
       "75755            NaN  592.022750  75755  \n",
       "75756            NaN   29.154684  75756  \n",
       "\n",
       "[75757 rows x 64 columns]"
      ]
     },
     "execution_count": 3,
     "metadata": {},
     "output_type": "execute_result"
    }
   ],
   "source": [
    "df"
   ]
  },
  {
   "cell_type": "code",
   "execution_count": 4,
   "metadata": {},
   "outputs": [],
   "source": [
    "def facility_type(x):\n",
    "    if x.find('Warehouse') >= 0:\n",
    "        type = 'Warehouse'\n",
    "    elif x.find('Data') >= 0:\n",
    "        type = 'Data'\n",
    "    elif x.find('ducation') >= 0:\n",
    "        type = 'Education'\n",
    "    elif x.find('Commercial') >= 0:\n",
    "        type = 'Commercial'\n",
    "    elif x.find('Residential') >= 0:\n",
    "        type = 'Residential'\n",
    "    elif x.find('Industrial') >= 0:\n",
    "        type = 'Industrial'\n",
    "    elif x.find('ealth') >= 0:\n",
    "        type = 'Health'  \n",
    "    elif x.find('Retail') >= 0:\n",
    "        type = 'Retail'\n",
    "    elif x.find('Retail') >= 0:\n",
    "        type = 'Retail'\n",
    "    elif x.find('Office') >= 0:\n",
    "        type = 'Office'\n",
    "    elif x.find('Lodging') >= 0:\n",
    "        type = 'Lodging'\n",
    "    elif x.find('arket') >= 0:\n",
    "        type = 'Market'\n",
    "    elif x.find('Public') >= 0:\n",
    "        type = 'Public'\n",
    "    elif x.find('ervice')>= 0:\n",
    "        type = 'Service'\n",
    "    elif x.find('Food')>= 0:\n",
    "        type = 'Service'      \n",
    "    elif x.find('Religious') >= 0:\n",
    "        type = 'Religious'        \n",
    "    elif x.find('Parking') >= 0:\n",
    "        type = 'Parking'          \n",
    "    elif x.find('uilding') >= 0:\n",
    "        type = 'Building'      \n",
    "    elif x.find('ultifamily') >= 0:\n",
    "        type = 'Multifamily'   \n",
    "    elif x.find('Laboratory') >= 0:\n",
    "        type = 'Laboratory'           \n",
    "    elif x.find('Nursing_Home') >= 0:\n",
    "        type = 'Nursing_Home'         \n",
    "    else:\n",
    "        type = 'Other'\n",
    "    return type"
   ]
  },
  {
   "cell_type": "code",
   "execution_count": 5,
   "metadata": {},
   "outputs": [],
   "source": [
    "df['facility_type_s'] = df['facility_type'].apply(facility_type)\n",
    "test_data['facility_type_s'] = test_data['facility_type'].apply(facility_type)"
   ]
  },
  {
   "cell_type": "markdown",
   "metadata": {},
   "source": [
    "## Data cleaning"
   ]
  },
  {
   "cell_type": "code",
   "execution_count": 6,
   "metadata": {},
   "outputs": [
    {
     "name": "stderr",
     "output_type": "stream",
     "text": [
      "/var/folders/jw/71kz1mm55lj8zynw1gmlz4_m0000gn/T/ipykernel_3026/2798579264.py:5: DeprecationWarning: Converting `np.inexact` or `np.floating` to a dtype is deprecated. The current result is `float64` which is not strictly correct.\n",
      "  if (1 < df[c].nunique()) & (df[c].dtype != np.number) & (df[c].dtype != int)\n"
     ]
    }
   ],
   "source": [
    "# clean up data type\n",
    "categorical_cols = [\n",
    "    c\n",
    "    for c in df.columns\n",
    "    if (1 < df[c].nunique()) & (df[c].dtype != np.number) & (df[c].dtype != int)\n",
    "]\n",
    "categorical_cols\n",
    "for col in categorical_cols:\n",
    "    df[col] = df[col].astype(\"category\")"
   ]
  },
  {
   "cell_type": "code",
   "execution_count": 7,
   "metadata": {},
   "outputs": [],
   "source": [
    "# handle missing values\n",
    "from sklearn.impute import SimpleImputer\n",
    "\n",
    "null_col = [\n",
    "    \"energy_star_rating\",\n",
    "    \"direction_max_wind_speed\",\n",
    "    \"direction_peak_wind_speed\",\n",
    "    \"max_wind_speed\",\n",
    "    \"days_with_fog\",\n",
    "]\n",
    "\n",
    "imputer = SimpleImputer()\n",
    "imputer.fit(df[null_col])\n",
    "data_transformed = imputer.transform(df[null_col])\n",
    "df[null_col] = pd.DataFrame(data_transformed)\n",
    "\n",
    "## for test data\n",
    "test_data_transformed = imputer.transform(test_data[null_col])\n",
    "test_data[null_col] = pd.DataFrame(test_data_transformed)"
   ]
  },
  {
   "cell_type": "code",
   "execution_count": 8,
   "metadata": {},
   "outputs": [],
   "source": [
    "df[\"year_built\"] = df[\"year_built\"].replace(np.nan, 2022)\n",
    "test_data[\"year_built\"] = test_data[\"year_built\"].replace(np.nan, 2022)"
   ]
  },
  {
   "cell_type": "code",
   "execution_count": 9,
   "metadata": {},
   "outputs": [],
   "source": [
    "df['year_built'] = df['year_built'].apply(lambda x: 2022 if x<1600 else x)"
   ]
  },
  {
   "cell_type": "code",
   "execution_count": 10,
   "metadata": {},
   "outputs": [],
   "source": [
    "df[\"State_Factor_encoded\"] = df.groupby(\"State_Factor\")[\"site_eui\"].transform(\"mean\")\n",
    "df[\"building_class_encoded\"] = df.groupby(\"building_class\")[\"site_eui\"].transform(\"mean\")\n",
    "df[\"facility_type_encoded\"] = df.groupby(\"facility_type\")[\"site_eui\"].transform(\"mean\")"
   ]
  },
  {
   "cell_type": "code",
   "execution_count": 11,
   "metadata": {},
   "outputs": [],
   "source": [
    "di = df[[\"State_Factor\",\"State_Factor_encoded\"]].drop_duplicates().set_index('State_Factor').to_dict()['State_Factor_encoded']\n",
    "df = df.replace({\"State_Factor\":di})\n",
    "test_data = test_data.replace({\"State_Factor\":di})\n",
    "\n",
    "di = df[[\"building_class\",\"building_class_encoded\"]].drop_duplicates().set_index('building_class').to_dict()['building_class_encoded']\n",
    "df = df.replace({\"building_class\":di})\n",
    "test_data = test_data.replace({\"building_class\":di})\n",
    "\n",
    "di = df[[\"facility_type\",\"facility_type_encoded\"]].drop_duplicates().set_index('facility_type').to_dict()['facility_type_encoded']\n",
    "df = df.replace({\"facility_type\":di})\n",
    "test_data = test_data.replace({\"facility_type\":di})\n",
    "\n",
    "df = df.drop(['State_Factor_encoded', 'building_class_encoded', 'facility_type_encoded'], axis=1)"
   ]
  },
  {
   "cell_type": "code",
   "execution_count": 12,
   "metadata": {},
   "outputs": [],
   "source": [
    "df['ELEVATION'] = df['ELEVATION'].apply(lambda x: 1 if x<0 else x)\n",
    "df['ELEVATION_log'] = round(np.log(df['ELEVATION']), 2)\n",
    "df['year_built_2'] = 2022 - df['year_built']\n",
    "df['floor_area_log'] = round(np.log(df['floor_area']), 2)\n",
    "\n",
    "test_data['ELEVATION'] = test_data['ELEVATION'].apply(lambda x: 1 if x<0 else x)\n",
    "test_data['ELEVATION_log'] = round(np.log(test_data['ELEVATION']), 2)\n",
    "test_data['year_built_2'] = 2022 - test_data['year_built']\n",
    "test_data['floor_area_log'] = round(np.log(test_data['floor_area']), 2)"
   ]
  },
  {
   "cell_type": "code",
   "execution_count": 13,
   "metadata": {},
   "outputs": [],
   "source": [
    "df['facility_type_s'] = df['facility_type_s'].astype('str')\n",
    "test_data['facility_type_s'] = test_data['facility_type_s'].astype('str')"
   ]
  },
  {
   "cell_type": "code",
   "execution_count": 14,
   "metadata": {},
   "outputs": [
    {
     "name": "stdout",
     "output_type": "stream",
     "text": [
      "<class 'pandas.core.frame.DataFrame'>\n",
      "RangeIndex: 75757 entries, 0 to 75756\n",
      "Data columns (total 68 columns):\n",
      " #   Column                     Non-Null Count  Dtype  \n",
      "---  ------                     --------------  -----  \n",
      " 0   Year_Factor                75757 non-null  int64  \n",
      " 1   State_Factor               75757 non-null  float64\n",
      " 2   building_class             75757 non-null  float64\n",
      " 3   facility_type              75757 non-null  float64\n",
      " 4   floor_area                 75757 non-null  float64\n",
      " 5   year_built                 75757 non-null  float64\n",
      " 6   energy_star_rating         75757 non-null  float64\n",
      " 7   ELEVATION                  75757 non-null  float64\n",
      " 8   january_min_temp           75757 non-null  int64  \n",
      " 9   january_avg_temp           75757 non-null  float64\n",
      " 10  january_max_temp           75757 non-null  int64  \n",
      " 11  february_min_temp          75757 non-null  int64  \n",
      " 12  february_avg_temp          75757 non-null  float64\n",
      " 13  february_max_temp          75757 non-null  int64  \n",
      " 14  march_min_temp             75757 non-null  int64  \n",
      " 15  march_avg_temp             75757 non-null  float64\n",
      " 16  march_max_temp             75757 non-null  int64  \n",
      " 17  april_min_temp             75757 non-null  int64  \n",
      " 18  april_avg_temp             75757 non-null  float64\n",
      " 19  april_max_temp             75757 non-null  int64  \n",
      " 20  may_min_temp               75757 non-null  int64  \n",
      " 21  may_avg_temp               75757 non-null  float64\n",
      " 22  may_max_temp               75757 non-null  int64  \n",
      " 23  june_min_temp              75757 non-null  int64  \n",
      " 24  june_avg_temp              75757 non-null  float64\n",
      " 25  june_max_temp              75757 non-null  int64  \n",
      " 26  july_min_temp              75757 non-null  int64  \n",
      " 27  july_avg_temp              75757 non-null  float64\n",
      " 28  july_max_temp              75757 non-null  int64  \n",
      " 29  august_min_temp            75757 non-null  int64  \n",
      " 30  august_avg_temp            75757 non-null  float64\n",
      " 31  august_max_temp            75757 non-null  int64  \n",
      " 32  september_min_temp         75757 non-null  int64  \n",
      " 33  september_avg_temp         75757 non-null  float64\n",
      " 34  september_max_temp         75757 non-null  int64  \n",
      " 35  october_min_temp           75757 non-null  int64  \n",
      " 36  october_avg_temp           75757 non-null  float64\n",
      " 37  october_max_temp           75757 non-null  int64  \n",
      " 38  november_min_temp          75757 non-null  int64  \n",
      " 39  november_avg_temp          75757 non-null  float64\n",
      " 40  november_max_temp          75757 non-null  int64  \n",
      " 41  december_min_temp          75757 non-null  int64  \n",
      " 42  december_avg_temp          75757 non-null  float64\n",
      " 43  december_max_temp          75757 non-null  int64  \n",
      " 44  cooling_degree_days        75757 non-null  int64  \n",
      " 45  heating_degree_days        75757 non-null  int64  \n",
      " 46  precipitation_inches       75757 non-null  float64\n",
      " 47  snowfall_inches            75757 non-null  float64\n",
      " 48  snowdepth_inches           75757 non-null  int64  \n",
      " 49  avg_temp                   75757 non-null  float64\n",
      " 50  days_below_30F             75757 non-null  int64  \n",
      " 51  days_below_20F             75757 non-null  int64  \n",
      " 52  days_below_10F             75757 non-null  int64  \n",
      " 53  days_below_0F              75757 non-null  int64  \n",
      " 54  days_above_80F             75757 non-null  int64  \n",
      " 55  days_above_90F             75757 non-null  int64  \n",
      " 56  days_above_100F            75757 non-null  int64  \n",
      " 57  days_above_110F            75757 non-null  int64  \n",
      " 58  direction_max_wind_speed   75757 non-null  float64\n",
      " 59  direction_peak_wind_speed  75757 non-null  float64\n",
      " 60  max_wind_speed             75757 non-null  float64\n",
      " 61  days_with_fog              75757 non-null  float64\n",
      " 62  site_eui                   75757 non-null  float64\n",
      " 63  id                         75757 non-null  int64  \n",
      " 64  facility_type_s            75757 non-null  object \n",
      " 65  ELEVATION_log              75757 non-null  float64\n",
      " 66  year_built_2               75757 non-null  float64\n",
      " 67  floor_area_log             75757 non-null  float64\n",
      "dtypes: float64(30), int64(37), object(1)\n",
      "memory usage: 39.3+ MB\n"
     ]
    }
   ],
   "source": [
    "df.info()"
   ]
  },
  {
   "cell_type": "markdown",
   "metadata": {},
   "source": [
    "## EDA"
   ]
  },
  {
   "cell_type": "code",
   "execution_count": 385,
   "metadata": {},
   "outputs": [
    {
     "data": {
      "text/html": [
       "<div>\n",
       "<style scoped>\n",
       "    .dataframe tbody tr th:only-of-type {\n",
       "        vertical-align: middle;\n",
       "    }\n",
       "\n",
       "    .dataframe tbody tr th {\n",
       "        vertical-align: top;\n",
       "    }\n",
       "\n",
       "    .dataframe thead th {\n",
       "        text-align: right;\n",
       "    }\n",
       "</style>\n",
       "<table border=\"1\" class=\"dataframe\">\n",
       "  <thead>\n",
       "    <tr style=\"text-align: right;\">\n",
       "      <th></th>\n",
       "      <th>Year_Factor</th>\n",
       "      <th>State_Factor</th>\n",
       "      <th>building_class</th>\n",
       "      <th>facility_type</th>\n",
       "      <th>floor_area</th>\n",
       "      <th>year_built</th>\n",
       "      <th>energy_star_rating</th>\n",
       "      <th>ELEVATION</th>\n",
       "      <th>january_min_temp</th>\n",
       "      <th>january_avg_temp</th>\n",
       "      <th>...</th>\n",
       "      <th>days_above_90F</th>\n",
       "      <th>days_above_100F</th>\n",
       "      <th>days_above_110F</th>\n",
       "      <th>direction_max_wind_speed</th>\n",
       "      <th>direction_peak_wind_speed</th>\n",
       "      <th>max_wind_speed</th>\n",
       "      <th>days_with_fog</th>\n",
       "      <th>site_eui</th>\n",
       "      <th>id</th>\n",
       "      <th>facility_type_s</th>\n",
       "    </tr>\n",
       "  </thead>\n",
       "  <tbody>\n",
       "    <tr>\n",
       "      <th>2</th>\n",
       "      <td>1</td>\n",
       "      <td>State_1</td>\n",
       "      <td>Commercial</td>\n",
       "      <td>Retail_Enclosed_mall</td>\n",
       "      <td>280025.0</td>\n",
       "      <td>1951.0</td>\n",
       "      <td>97.0</td>\n",
       "      <td>1.8</td>\n",
       "      <td>36</td>\n",
       "      <td>50.5</td>\n",
       "      <td>...</td>\n",
       "      <td>0</td>\n",
       "      <td>0</td>\n",
       "      <td>0</td>\n",
       "      <td>1.0</td>\n",
       "      <td>62.779974</td>\n",
       "      <td>1.0</td>\n",
       "      <td>12.0</td>\n",
       "      <td>24.693619</td>\n",
       "      <td>2</td>\n",
       "      <td>Market</td>\n",
       "    </tr>\n",
       "  </tbody>\n",
       "</table>\n",
       "<p>1 rows × 65 columns</p>\n",
       "</div>"
      ],
      "text/plain": [
       "   Year_Factor State_Factor building_class         facility_type  floor_area  \\\n",
       "2            1      State_1     Commercial  Retail_Enclosed_mall    280025.0   \n",
       "\n",
       "   year_built  energy_star_rating  ELEVATION  january_min_temp  \\\n",
       "2      1951.0                97.0        1.8                36   \n",
       "\n",
       "   january_avg_temp  ...  days_above_90F  days_above_100F  days_above_110F  \\\n",
       "2              50.5  ...               0                0                0   \n",
       "\n",
       "   direction_max_wind_speed  direction_peak_wind_speed  max_wind_speed  \\\n",
       "2                       1.0                  62.779974             1.0   \n",
       "\n",
       "   days_with_fog   site_eui  id  facility_type_s  \n",
       "2           12.0  24.693619   2           Market  \n",
       "\n",
       "[1 rows x 65 columns]"
      ]
     },
     "execution_count": 385,
     "metadata": {},
     "output_type": "execute_result"
    }
   ],
   "source": [
    "df[df['id'] == 2]"
   ]
  },
  {
   "cell_type": "code",
   "execution_count": 386,
   "metadata": {},
   "outputs": [
    {
     "name": "stderr",
     "output_type": "stream",
     "text": [
      "/Users/vivianho/opt/anaconda3/envs/tf2/lib/python3.8/site-packages/seaborn/distributions.py:2619: FutureWarning: `distplot` is a deprecated function and will be removed in a future version. Please adapt your code to use either `displot` (a figure-level function with similar flexibility) or `histplot` (an axes-level function for histograms).\n",
      "  warnings.warn(msg, FutureWarning)\n"
     ]
    },
    {
     "data": {
      "text/plain": [
       "<AxesSubplot:xlabel='site_eui', ylabel='Density'>"
      ]
     },
     "execution_count": 386,
     "metadata": {},
     "output_type": "execute_result"
    },
    {
     "data": {
      "image/png": "[encoded data removed]",
      "text/plain": [
       "<Figure size 432x288 with 1 Axes>"
      ]
     },
     "metadata": {
      "needs_background": "light"
     },
     "output_type": "display_data"
    }
   ],
   "source": [
    "sns.distplot(df[\"site_eui\"])"
   ]
  },
  {
   "cell_type": "code",
   "execution_count": 387,
   "metadata": {},
   "outputs": [
    {
     "name": "stderr",
     "output_type": "stream",
     "text": [
      "/Users/vivianho/opt/anaconda3/envs/tf2/lib/python3.8/site-packages/seaborn/distributions.py:2619: FutureWarning: `distplot` is a deprecated function and will be removed in a future version. Please adapt your code to use either `displot` (a figure-level function with similar flexibility) or `histplot` (an axes-level function for histograms).\n",
      "  warnings.warn(msg, FutureWarning)\n"
     ]
    },
    {
     "data": {
      "text/plain": [
       "<AxesSubplot:xlabel='floor_area_log', ylabel='Density'>"
      ]
     },
     "execution_count": 387,
     "metadata": {},
     "output_type": "execute_result"
    },
    {
     "data": {
      "image/png": "[encoded data removed]",
      "text/plain": [
       "<Figure size 432x288 with 1 Axes>"
      ]
     },
     "metadata": {
      "needs_background": "light"
     },
     "output_type": "display_data"
    }
   ],
   "source": [
    "sns.distplot(df['floor_area_log'])"
   ]
  },
  {
   "cell_type": "code",
   "execution_count": 388,
   "metadata": {},
   "outputs": [
    {
     "data": {
      "text/plain": [
       "[<matplotlib.lines.Line2D at 0x7ff642565340>]"
      ]
     },
     "execution_count": 388,
     "metadata": {},
     "output_type": "execute_result"
    },
    {
     "data": {
      "image/png": "[encoded data removed]",
      "text/plain": [
       "<Figure size 432x288 with 1 Axes>"
      ]
     },
     "metadata": {
      "needs_background": "light"
     },
     "output_type": "display_data"
    }
   ],
   "source": [
    "x = df['floor_area_log']\n",
    "y = df[\"site_eui\"]\n",
    "plt.plot(x,y, 'o', markersize=1)\n",
    "m, b = np.polyfit(x,y,1)\n",
    "plt.plot(x, m*x + b)"
   ]
  },
  {
   "cell_type": "code",
   "execution_count": 389,
   "metadata": {},
   "outputs": [
    {
     "name": "stderr",
     "output_type": "stream",
     "text": [
      "/Users/vivianho/opt/anaconda3/envs/tf2/lib/python3.8/site-packages/pandas/core/arraylike.py:364: RuntimeWarning: divide by zero encountered in log\n",
      "  result = getattr(ufunc, method)(*inputs, **kwargs)\n"
     ]
    },
    {
     "data": {
      "text/plain": [
       "0        4.382027\n",
       "1        4.204693\n",
       "2        4.262680\n",
       "3        3.737670\n",
       "4        3.610918\n",
       "           ...   \n",
       "75752    3.295837\n",
       "75753    4.718499\n",
       "75754    4.653960\n",
       "75755    2.302585\n",
       "75756    3.871201\n",
       "Name: year_built, Length: 75751, dtype: float64"
      ]
     },
     "execution_count": 389,
     "metadata": {},
     "output_type": "execute_result"
    }
   ],
   "source": [
    "np.log(2022 - df['year_built'])"
   ]
  },
  {
   "cell_type": "code",
   "execution_count": 390,
   "metadata": {},
   "outputs": [
    {
     "data": {
      "text/plain": [
       "[<matplotlib.lines.Line2D at 0x7ff6425d4790>]"
      ]
     },
     "execution_count": 390,
     "metadata": {},
     "output_type": "execute_result"
    },
    {
     "data": {
      "image/png": "[encoded data removed]",
      "text/plain": [
       "<Figure size 432x288 with 1 Axes>"
      ]
     },
     "metadata": {
      "needs_background": "light"
     },
     "output_type": "display_data"
    }
   ],
   "source": [
    "\n",
    "x = df['year_built']\n",
    "y = df[\"site_eui\"]\n",
    "plt.plot(x,y, 'o', markersize=1)\n",
    "m, b = np.polyfit(x,y,1)\n",
    "plt.plot(x, m*x + b)"
   ]
  },
  {
   "cell_type": "code",
   "execution_count": 391,
   "metadata": {},
   "outputs": [
    {
     "data": {
      "text/plain": [
       "<AxesSubplot:xlabel='Year_Factor', ylabel='site_eui'>"
      ]
     },
     "execution_count": 391,
     "metadata": {},
     "output_type": "execute_result"
    },
    {
     "data": {
      "image/png": "[encoded data removed]",
      "text/plain": [
       "<Figure size 424.5x360 with 1 Axes>"
      ]
     },
     "metadata": {
      "needs_background": "light"
     },
     "output_type": "display_data"
    }
   ],
   "source": [
    "sns.displot(data=df, x=\"site_eui\", hue=\"Year_Factor\", kind=\"kde\")\n",
    "sns.boxplot(x='Year_Factor', y='site_eui', data=df)"
   ]
  },
  {
   "cell_type": "code",
   "execution_count": 392,
   "metadata": {},
   "outputs": [
    {
     "data": {
      "text/plain": [
       "<AxesSubplot:xlabel='State_Factor', ylabel='site_eui'>"
      ]
     },
     "execution_count": 392,
     "metadata": {},
     "output_type": "execute_result"
    },
    {
     "data": {
      "image/png": "[encoded data removed]",
      "text/plain": [
       "<Figure size 432x288 with 1 Axes>"
      ]
     },
     "metadata": {
      "needs_background": "light"
     },
     "output_type": "display_data"
    }
   ],
   "source": [
    "sns.boxplot(x='State_Factor', y='site_eui', data=df)"
   ]
  },
  {
   "cell_type": "code",
   "execution_count": 393,
   "metadata": {},
   "outputs": [
    {
     "data": {
      "text/plain": [
       "<seaborn.axisgrid.FacetGrid at 0x7ff643d53d30>"
      ]
     },
     "execution_count": 393,
     "metadata": {},
     "output_type": "execute_result"
    },
    {
     "data": {
      "image/png": "[encoded data removed]",
      "text/plain": [
       "<Figure size 432x288 with 1 Axes>"
      ]
     },
     "metadata": {
      "needs_background": "light"
     },
     "output_type": "display_data"
    },
    {
     "data": {
      "image/png": "[encoded data removed]",
      "text/plain": [
       "<Figure size 455.5x360 with 1 Axes>"
      ]
     },
     "metadata": {
      "needs_background": "light"
     },
     "output_type": "display_data"
    }
   ],
   "source": [
    "sns.boxplot(x='building_class', y='site_eui', data=df)\n",
    "sns.displot(data=df, x=\"site_eui\", hue=\"building_class\", kind=\"kde\")"
   ]
  },
  {
   "cell_type": "code",
   "execution_count": 394,
   "metadata": {},
   "outputs": [
    {
     "data": {
      "text/plain": [
       "[<matplotlib.lines.Line2D at 0x7ff643f66ca0>]"
      ]
     },
     "execution_count": 394,
     "metadata": {},
     "output_type": "execute_result"
    },
    {
     "data": {
      "image/png": "[encoded data removed]",
      "text/plain": [
       "<Figure size 432x288 with 1 Axes>"
      ]
     },
     "metadata": {
      "needs_background": "light"
     },
     "output_type": "display_data"
    }
   ],
   "source": [
    "x = df['energy_star_rating']\n",
    "y = df[\"site_eui\"]\n",
    "plt.plot(x,y, 'o', markersize=1)\n",
    "m, b = np.polyfit(x,y,1)\n",
    "plt.plot(x, m*x + b)"
   ]
  },
  {
   "cell_type": "code",
   "execution_count": 671,
   "metadata": {},
   "outputs": [
    {
     "name": "stderr",
     "output_type": "stream",
     "text": [
      "/Users/vivianho/opt/anaconda3/envs/tf2/lib/python3.8/site-packages/pandas/core/arraylike.py:364: RuntimeWarning: invalid value encountered in log\n",
      "  result = getattr(ufunc, method)(*inputs, **kwargs)\n",
      "/Users/vivianho/opt/anaconda3/envs/tf2/lib/python3.8/site-packages/seaborn/distributions.py:2619: FutureWarning: `distplot` is a deprecated function and will be removed in a future version. Please adapt your code to use either `displot` (a figure-level function with similar flexibility) or `histplot` (an axes-level function for histograms).\n",
      "  warnings.warn(msg, FutureWarning)\n"
     ]
    },
    {
     "data": {
      "text/plain": [
       "[<matplotlib.lines.Line2D at 0x7ff5c363d070>]"
      ]
     },
     "execution_count": 671,
     "metadata": {},
     "output_type": "execute_result"
    },
    {
     "data": {
      "image/png": "[encoded data removed]",
      "text/plain": [
       "<Figure size 432x288 with 1 Axes>"
      ]
     },
     "metadata": {
      "needs_background": "light"
     },
     "output_type": "display_data"
    }
   ],
   "source": [
    "x = df['ELEVATION']\n",
    "y = df[\"site_eui\"]\n",
    "plt.plot(x,y, 'o', markersize=1)\n",
    "m, b = np.polyfit(x,y,1)\n",
    "plt.plot(x, m*x + b)"
   ]
  },
  {
   "cell_type": "code",
   "execution_count": 396,
   "metadata": {},
   "outputs": [
    {
     "data": {
      "text/html": [
       "<div>\n",
       "<style scoped>\n",
       "    .dataframe tbody tr th:only-of-type {\n",
       "        vertical-align: middle;\n",
       "    }\n",
       "\n",
       "    .dataframe tbody tr th {\n",
       "        vertical-align: top;\n",
       "    }\n",
       "\n",
       "    .dataframe thead tr th {\n",
       "        text-align: left;\n",
       "    }\n",
       "\n",
       "    .dataframe thead tr:last-of-type th {\n",
       "        text-align: right;\n",
       "    }\n",
       "</style>\n",
       "<table border=\"1\" class=\"dataframe\">\n",
       "  <thead>\n",
       "    <tr>\n",
       "      <th></th>\n",
       "      <th colspan=\"4\" halign=\"left\">site_eui</th>\n",
       "    </tr>\n",
       "    <tr>\n",
       "      <th></th>\n",
       "      <th>count</th>\n",
       "      <th>min</th>\n",
       "      <th>mean</th>\n",
       "      <th>max</th>\n",
       "    </tr>\n",
       "    <tr>\n",
       "      <th>facility_type</th>\n",
       "      <th></th>\n",
       "      <th></th>\n",
       "      <th></th>\n",
       "      <th></th>\n",
       "    </tr>\n",
       "  </thead>\n",
       "  <tbody>\n",
       "    <tr>\n",
       "      <th>Warehouse_Selfstorage</th>\n",
       "      <td>577</td>\n",
       "      <td>1.175836</td>\n",
       "      <td>21.589284</td>\n",
       "      <td>114.301406</td>\n",
       "    </tr>\n",
       "    <tr>\n",
       "      <th>Food_Service_Other</th>\n",
       "      <td>17</td>\n",
       "      <td>16.200000</td>\n",
       "      <td>29.236616</td>\n",
       "      <td>51.548219</td>\n",
       "    </tr>\n",
       "    <tr>\n",
       "      <th>2to4_Unit_Building</th>\n",
       "      <td>1893</td>\n",
       "      <td>5.078905</td>\n",
       "      <td>31.876915</td>\n",
       "      <td>149.488903</td>\n",
       "    </tr>\n",
       "    <tr>\n",
       "      <th>Warehouse_Uncategorized</th>\n",
       "      <td>330</td>\n",
       "      <td>2.712158</td>\n",
       "      <td>35.936435</td>\n",
       "      <td>199.781186</td>\n",
       "    </tr>\n",
       "    <tr>\n",
       "      <th>5plus_Unit_Building</th>\n",
       "      <td>1273</td>\n",
       "      <td>10.314208</td>\n",
       "      <td>36.737785</td>\n",
       "      <td>159.722183</td>\n",
       "    </tr>\n",
       "    <tr>\n",
       "      <th>Warehouse_Nonrefrigerated</th>\n",
       "      <td>1255</td>\n",
       "      <td>1.001169</td>\n",
       "      <td>38.209399</td>\n",
       "      <td>695.993169</td>\n",
       "    </tr>\n",
       "    <tr>\n",
       "      <th>Warehouse_Distribution_or_Shipping_center</th>\n",
       "      <td>604</td>\n",
       "      <td>1.310190</td>\n",
       "      <td>39.559542</td>\n",
       "      <td>233.515493</td>\n",
       "    </tr>\n",
       "    <tr>\n",
       "      <th>Service_Drycleaning_or_Laundry</th>\n",
       "      <td>9</td>\n",
       "      <td>32.209041</td>\n",
       "      <td>42.112542</td>\n",
       "      <td>54.538901</td>\n",
       "    </tr>\n",
       "    <tr>\n",
       "      <th>Religious_worship</th>\n",
       "      <td>399</td>\n",
       "      <td>2.252498</td>\n",
       "      <td>44.560675</td>\n",
       "      <td>178.147259</td>\n",
       "    </tr>\n",
       "    <tr>\n",
       "      <th>Education_Uncategorized</th>\n",
       "      <td>709</td>\n",
       "      <td>3.637533</td>\n",
       "      <td>46.172799</td>\n",
       "      <td>910.563198</td>\n",
       "    </tr>\n",
       "  </tbody>\n",
       "</table>\n",
       "</div>"
      ],
      "text/plain": [
       "                                          site_eui                        \\\n",
       "                                             count        min       mean   \n",
       "facility_type                                                              \n",
       "Warehouse_Selfstorage                          577   1.175836  21.589284   \n",
       "Food_Service_Other                              17  16.200000  29.236616   \n",
       "2to4_Unit_Building                            1893   5.078905  31.876915   \n",
       "Warehouse_Uncategorized                        330   2.712158  35.936435   \n",
       "5plus_Unit_Building                           1273  10.314208  36.737785   \n",
       "Warehouse_Nonrefrigerated                     1255   1.001169  38.209399   \n",
       "Warehouse_Distribution_or_Shipping_center      604   1.310190  39.559542   \n",
       "Service_Drycleaning_or_Laundry                   9  32.209041  42.112542   \n",
       "Religious_worship                              399   2.252498  44.560675   \n",
       "Education_Uncategorized                        709   3.637533  46.172799   \n",
       "\n",
       "                                                       \n",
       "                                                  max  \n",
       "facility_type                                          \n",
       "Warehouse_Selfstorage                      114.301406  \n",
       "Food_Service_Other                          51.548219  \n",
       "2to4_Unit_Building                         149.488903  \n",
       "Warehouse_Uncategorized                    199.781186  \n",
       "5plus_Unit_Building                        159.722183  \n",
       "Warehouse_Nonrefrigerated                  695.993169  \n",
       "Warehouse_Distribution_or_Shipping_center  233.515493  \n",
       "Service_Drycleaning_or_Laundry              54.538901  \n",
       "Religious_worship                          178.147259  \n",
       "Education_Uncategorized                    910.563198  "
      ]
     },
     "execution_count": 396,
     "metadata": {},
     "output_type": "execute_result"
    }
   ],
   "source": [
    "df.groupby('facility_type').agg({'site_eui':['count','min','mean','max']}).sort_values(('site_eui','mean')).head(10)"
   ]
  },
  {
   "cell_type": "code",
   "execution_count": 414,
   "metadata": {},
   "outputs": [
    {
     "data": {
      "text/plain": [
       "<AxesSubplot:xlabel='facility_type', ylabel='site_eui'>"
      ]
     },
     "execution_count": 414,
     "metadata": {},
     "output_type": "execute_result"
    },
    {
     "data": {
      "image/png": "[encoded data removed]",
      "text/plain": [
       "<Figure size 1296x864 with 1 Axes>"
      ]
     },
     "metadata": {
      "needs_background": "light"
     },
     "output_type": "display_data"
    }
   ],
   "source": [
    "plt.figure(figsize=(18,12))\n",
    "sns.boxplot(x='facility_type', y='site_eui', data=df)"
   ]
  },
  {
   "cell_type": "code",
   "execution_count": 415,
   "metadata": {},
   "outputs": [
    {
     "data": {
      "text/plain": [
       "<AxesSubplot:xlabel='facility_type_s', ylabel='site_eui'>"
      ]
     },
     "execution_count": 415,
     "metadata": {},
     "output_type": "execute_result"
    },
    {
     "data": {
      "image/png": "[encoded data removed]",
      "text/plain": [
       "<Figure size 1296x864 with 1 Axes>"
      ]
     },
     "metadata": {
      "needs_background": "light"
     },
     "output_type": "display_data"
    }
   ],
   "source": [
    "plt.figure(figsize=(18,12))\n",
    "sns.boxplot(x='facility_type_s', y='site_eui', data=df)"
   ]
  },
  {
   "cell_type": "markdown",
   "metadata": {},
   "source": [
    "## Feature one-hot encoding and scaling"
   ]
  },
  {
   "cell_type": "code",
   "execution_count": 15,
   "metadata": {},
   "outputs": [
    {
     "name": "stdout",
     "output_type": "stream",
     "text": [
      "Memory usage of dataframe is 39.30 MB\n",
      "Memory usage after optimization is: 7.88 MB\n",
      "Decreased by 79.96%\n",
      "Memory usage of dataframe is 4.96 MB\n",
      "Memory usage after optimization is: 0.96 MB\n",
      "Decreased by 80.58%\n"
     ]
    }
   ],
   "source": [
    "# Memory optimization\n",
    "\n",
    "# Original code from https://www.kaggle.com/gemartin/load-data-reduce-memory-usage by @gemartin\n",
    "# Modified to support timestamp type, categorical type\n",
    "# Modified to add option to use float16\n",
    "from pandas.api.types import is_categorical_dtype\n",
    "from pandas.api.types import is_datetime64_any_dtype as is_datetime\n",
    "def reduce_mem_usage(data, use_float16=False) -> pd.DataFrame:\n",
    "    start_mem = data.memory_usage().sum() / 1024**2\n",
    "    print('Memory usage of dataframe is {:.2f} MB'.format(start_mem))\n",
    "\n",
    "    for col in data.columns:\n",
    "        if is_datetime(data[col]) or is_categorical_dtype(data[col]):\n",
    "            continue\n",
    "        col_type = data[col].dtype\n",
    "\n",
    "        if col_type != object:\n",
    "            c_min = data[col].min()\n",
    "            c_max = data[col].max()\n",
    "            if str(col_type)[:3] == 'int':\n",
    "                if c_min > np.iinfo(np.int8).min and c_max < np.iinfo(np.int8).max:\n",
    "                    data[col] = data[col].astype(np.int8)\n",
    "                elif c_min > np.iinfo(np.int16).min and c_max < np.iinfo(np.int16).max:\n",
    "                    data[col] = data[col].astype(np.int16)\n",
    "                elif c_min > np.iinfo(np.int32).min and c_max < np.iinfo(np.int32).max:\n",
    "                    data[col] = data[col].astype(np.int32)\n",
    "                elif c_min > np.iinfo(np.int64).min and c_max < np.iinfo(np.int64).max:\n",
    "                    data[col] = data[col].astype(np.int64)\n",
    "            else:\n",
    "                if use_float16 and c_min > np.finfo(np.float16).min and c_max < np.finfo(np.float16).max:\n",
    "                    data[col] = data[col].astype(np.float16)\n",
    "                elif c_min > np.finfo(np.float32).min and c_max < np.finfo(np.float32).max:\n",
    "                    data[col] = data[col].astype(np.float32)\n",
    "                else:\n",
    "                    data[col] = data[col].astype(np.float64)\n",
    "        else:\n",
    "            data[col] = data[col].astype('category')\n",
    "\n",
    "    end_mem = data.memory_usage().sum() / 1024**2\n",
    "    print('Memory usage after optimization is: {:.2f} MB'.format(end_mem))\n",
    "    print('Decreased by {:.2f}%'.format(\n",
    "        100 * (start_mem - end_mem) / start_mem))\n",
    "\n",
    "    return data\n",
    "\n",
    "df = reduce_mem_usage(df, use_float16=True)\n",
    "test_data = reduce_mem_usage(test_data, use_float16=True)"
   ]
  },
  {
   "cell_type": "code",
   "execution_count": 1047,
   "metadata": {},
   "outputs": [],
   "source": [
    "#lightGBM\n",
    "from sklearn.preprocessing import LabelEncoder\n",
    "labelencoder = LabelEncoder()\n",
    "df['facility_type_s'] = labelencoder.fit_transform(df['facility_type_s'])\n",
    "test_data['facility_type_s'] = labelencoder.transform(test_data['facility_type_s'])"
   ]
  },
  {
   "cell_type": "code",
   "execution_count": 16,
   "metadata": {},
   "outputs": [],
   "source": [
    "#XGBoost\n",
    "from sklearn.preprocessing import OneHotEncoder\n",
    "categorical_cols = ['facility_type_s']\n",
    "\n",
    "ohe = OneHotEncoder(handle_unknown='ignore')\n",
    "X_onehot = ohe.fit_transform(df[categorical_cols]).toarray()\n",
    "X_onehot = pd.DataFrame(X_onehot, columns=ohe.get_feature_names_out())\n",
    "df = pd.concat([df.drop(categorical_cols, axis=1),X_onehot], axis=1)\n",
    "\n",
    "test_data_onehot = ohe.transform(test_data[categorical_cols]).toarray()\n",
    "test_data_onehot = pd.DataFrame(test_data_onehot, columns=ohe.get_feature_names_out())\n",
    "test_X = pd.concat([test_data.drop(categorical_cols, axis=1), test_data_onehot], axis=1)"
   ]
  },
  {
   "cell_type": "code",
   "execution_count": 17,
   "metadata": {},
   "outputs": [],
   "source": [
    "X = df.drop(['site_eui','id'], axis=1)\n",
    "y = df['site_eui']\n",
    "\n",
    "test_X = test_data.drop('id', axis=1)"
   ]
  },
  {
   "cell_type": "code",
   "execution_count": 18,
   "metadata": {},
   "outputs": [],
   "source": [
    "from sklearn.model_selection import train_test_split\n",
    "X_train, X_test, y_train, y_test = train_test_split(X, y, test_size=0.2, random_state=42)"
   ]
  },
  {
   "cell_type": "code",
   "execution_count": 816,
   "metadata": {},
   "outputs": [],
   "source": [
    "#from sklearn.preprocessing import StandardScaler\n",
    "\n",
    "#scaler = StandardScaler()\n",
    "#X_train_scaled = scaler.fit_transform(X_train)\n",
    "#X_test_scaled = scaler.transform(X_test)\n",
    "#test_scaled = scaler.transform(test_X)"
   ]
  },
  {
   "cell_type": "markdown",
   "metadata": {},
   "source": [
    "# Model building"
   ]
  },
  {
   "cell_type": "code",
   "execution_count": 20,
   "metadata": {},
   "outputs": [],
   "source": [
    "import math\n",
    "\n",
    "def rmse(y_test, y_pred):\n",
    "    return math.sqrt(mean_squared_error(y_test, y_pred))"
   ]
  },
  {
   "cell_type": "markdown",
   "metadata": {},
   "source": [
    "## Decision Tree"
   ]
  },
  {
   "cell_type": "code",
   "execution_count": 861,
   "metadata": {},
   "outputs": [
    {
     "name": "stdout",
     "output_type": "stream",
     "text": [
      "47.055182727304334\n",
      "42.91845765296797\n"
     ]
    }
   ],
   "source": [
    "from sklearn.model_selection import cross_val_score\n",
    "from sklearn.tree import DecisionTreeRegressor\n",
    "dt = DecisionTreeRegressor(random_state=0, criterion=\"squared_error\",max_depth=5,min_samples_split=5,min_samples_leaf=3)\n",
    "dt.fit(X_train, y_train)\n",
    "\n",
    "print(rmse(y_train, dt.predict(X_train)))\n",
    "print(rmse(y_test, dt.predict(X_test)))"
   ]
  },
  {
   "cell_type": "markdown",
   "metadata": {},
   "source": [
    "## Linear Regression"
   ]
  },
  {
   "cell_type": "code",
   "execution_count": 826,
   "metadata": {},
   "outputs": [
    {
     "name": "stdout",
     "output_type": "stream",
     "text": [
      "47.61458689203792\n",
      "42.7313911482033\n"
     ]
    }
   ],
   "source": [
    "from sklearn.linear_model import LinearRegression\n",
    "lr = LinearRegression()\n",
    "\n",
    "lr.fit(X_train, y_train)\n",
    "print(rmse(y_train, lr.predict(X_train)))\n",
    "print(rmse(y_test, lr.predict(X_test)))"
   ]
  },
  {
   "cell_type": "markdown",
   "metadata": {},
   "source": [
    "## XGBoost"
   ]
  },
  {
   "cell_type": "code",
   "execution_count": null,
   "metadata": {},
   "outputs": [],
   "source": [
    "from sklearn import ensemble\n",
    "from xgboost import XGBRegressor\n",
    "from xgboost import plot_importance\n",
    "params = {'eval_metric': 'rmse', 'learning_rate': 0.5, 'max_depth': 6, 'subsample': 0.8, \n",
    "          'n_estimators': 3000, \"grow_policy\": 'lossguide', 'lambda':1, 'gamma': 0.5, 'verbosity':1}\n",
    "clf = XGBRegressor(**params)\n",
    "clf.fit(X_train, y_train)\n",
    "\n",
    "print(rmse(y_train, clf.predict(X_train)))\n",
    "print(rmse(y_test, clf.predict(X_test)))\n",
    "plot_importance(clf._Booster, max_num_features = 20)"
   ]
  },
  {
   "cell_type": "markdown",
   "metadata": {},
   "source": [
    "### GridSearch"
   ]
  },
  {
   "cell_type": "code",
   "execution_count": null,
   "metadata": {},
   "outputs": [],
   "source": [
    "parameters = {\n",
    "    \"eval_metric\": [\"rmse\"],\n",
    "    'n_estimators': [300, 500],\n",
    "    \"learning_rate\": [0.05, 0.1],\n",
    "    \"max_depth\": [5, 10],\n",
    "}\n",
    "model = XGBRegressor()\n",
    "model_grid = GridSearchCV(model, parameters, cv=3, verbose=False)\n",
    "model_grid.fit(X_train, y_train)\n",
    "\n",
    "print(model_grid.best_score_)\n",
    "print(model_grid.best_params_)\n",
    "print(model_grid.best_estimator_)\n",
    "print(rmse(y_train, model_grid.predict(X_train)))\n",
    "print(rmse(y_test, model_grid.predict(X_test)))"
   ]
  },
  {
   "cell_type": "markdown",
   "metadata": {},
   "source": [
    "## LightGBM"
   ]
  },
  {
   "cell_type": "code",
   "execution_count": 1027,
   "metadata": {},
   "outputs": [],
   "source": [
    "categorical = ['facility_type_s']\n",
    "features=[x for x in X_train.columns]"
   ]
  },
  {
   "cell_type": "code",
   "execution_count": 1028,
   "metadata": {},
   "outputs": [],
   "source": [
    "import lightgbm as lgb\n",
    "train_data = lgb.Dataset(X_train, label=y_train, feature_name=features, categorical_feature=categorical, free_raw_data=False)\n",
    "validation_data = lgb.Dataset(X_test, label=y_test, reference=train_data, free_raw_data=False)"
   ]
  },
  {
   "cell_type": "code",
   "execution_count": 1029,
   "metadata": {},
   "outputs": [
    {
     "name": "stderr",
     "output_type": "stream",
     "text": [
      "/Users/vivianho/opt/anaconda3/envs/tf2/lib/python3.8/site-packages/lightgbm/engine.py:177: UserWarning: Found `num_iterations` in params. Will use it instead of argument\n",
      "  _log_warning(f\"Found `{alias}` in params. Will use it instead of argument\")\n",
      "/Users/vivianho/opt/anaconda3/envs/tf2/lib/python3.8/site-packages/lightgbm/basic.py:2065: UserWarning: Using categorical_feature in Dataset.\n",
      "  _log_warning('Using categorical_feature in Dataset.')\n",
      "/Users/vivianho/opt/anaconda3/envs/tf2/lib/python3.8/site-packages/lightgbm/basic.py:2068: UserWarning: categorical_feature in Dataset is overridden.\n",
      "New categorical_feature is ['facility_type_s']\n",
      "  _log_warning('categorical_feature in Dataset is overridden.\\n'\n",
      "/Users/vivianho/opt/anaconda3/envs/tf2/lib/python3.8/site-packages/lightgbm/basic.py:1487: UserWarning: categorical_feature keyword has been found in `params` and will be ignored.\n",
      "Please use categorical_feature argument of the Dataset constructor to pass this parameter.\n",
      "  _log_warning(f'{key} keyword has been found in `params` and will be ignored.\\n'\n",
      "/Users/vivianho/opt/anaconda3/envs/tf2/lib/python3.8/site-packages/lightgbm/basic.py:1513: UserWarning: categorical_feature in param dict is overridden.\n",
      "  _log_warning(f'{cat_alias} in param dict is overridden.')\n"
     ]
    },
    {
     "name": "stdout",
     "output_type": "stream",
     "text": [
      "[LightGBM] [Warning] categorical_feature is set=facility_type_s, categorical_column=62 will be ignored. Current value: categorical_feature=facility_type_s\n",
      "[LightGBM] [Warning] Auto-choosing row-wise multi-threading, the overhead of testing was 0.003111 seconds.\n",
      "You can set `force_row_wise=true` to remove the overhead.\n",
      "And if memory is not enough, you can set `force_col_wise=true`.\n",
      "[LightGBM] [Info] Total Bins 4306\n",
      "[LightGBM] [Info] Number of data points in the train set: 60605, number of used features: 66\n",
      "[LightGBM] [Info] Start training from score 82.556339\n",
      "Training until validation scores don't improve for 50 rounds\n"
     ]
    },
    {
     "name": "stderr",
     "output_type": "stream",
     "text": [
      "/Users/vivianho/opt/anaconda3/envs/tf2/lib/python3.8/site-packages/lightgbm/basic.py:1780: UserWarning: Overriding the parameters from Reference Dataset.\n",
      "  _log_warning('Overriding the parameters from Reference Dataset.')\n",
      "/Users/vivianho/opt/anaconda3/envs/tf2/lib/python3.8/site-packages/lightgbm/basic.py:1513: UserWarning: categorical_column in param dict is overridden.\n",
      "  _log_warning(f'{cat_alias} in param dict is overridden.')\n"
     ]
    },
    {
     "name": "stdout",
     "output_type": "stream",
     "text": [
      "Early stopping, best iteration is:\n",
      "[2350]\tvalid_0's rmse: 39.2015\n",
      "25.098302514743427\n",
      "39.20148858320508\n"
     ]
    }
   ],
   "source": [
    "import lightgbm as lgm\n",
    "params = {'boosting_type':'gbdt', 'metric' : 'rmse',\n",
    "    'num_leaves' : 52, 'min_data_in_leaf' : 20,'max_depth': 30,\n",
    "    'num_iterations': 3000,\n",
    "    'feature_fraction': 0.7, \n",
    "    'lambda_l2':10,\n",
    "    #valid='lgb_eval', #early_stopping_round = 30,\n",
    "    'learning_rate':0.05,\n",
    "    'verbose' : 1,  'n_jobs':-1,\n",
    "    'categorical_feature':categorical}\n",
    "\n",
    "num_round = 3\n",
    "model = lgb.train(params, train_data, num_round, valid_sets=[validation_data], \n",
    "                  callbacks=[lgb.early_stopping(stopping_rounds=50)])\n",
    "\n",
    "\n",
    "model.predict(X_train, num_round)\n",
    "print(rmse(y_train, model.predict(X_train)))\n",
    "print(rmse(y_test, model.predict(X_test)))"
   ]
  },
  {
   "cell_type": "code",
   "execution_count": 1030,
   "metadata": {},
   "outputs": [
    {
     "data": {
      "text/plain": [
       "<AxesSubplot:title={'center':'Feature importance'}, xlabel='Feature importance', ylabel='Features'>"
      ]
     },
     "execution_count": 1030,
     "metadata": {},
     "output_type": "execute_result"
    },
    {
     "data": {
      "image/png": "[encoded data removed]",
      "text/plain": [
       "<Figure size 432x288 with 1 Axes>"
      ]
     },
     "metadata": {
      "needs_background": "light"
     },
     "output_type": "display_data"
    }
   ],
   "source": [
    "lgb.plot_importance(model, max_num_features=20)"
   ]
  },
  {
   "cell_type": "markdown",
   "metadata": {},
   "source": [
    "### GridSearch"
   ]
  },
  {
   "cell_type": "code",
   "execution_count": 562,
   "metadata": {},
   "outputs": [
    {
     "name": "stdout",
     "output_type": "stream",
     "text": [
      "-42.70185494449223\n",
      "{'learning_rate': 0.2, 'max_depth': 30, 'num_leaves': 40, 'objective': 'root_mean_squared_error'}\n",
      "LGBMRegressor(learning_rate=0.2, max_depth=30, num_leaves=40,\n",
      "              objective='root_mean_squared_error')\n",
      "36.00392084465218\n",
      "41.78888676512866\n"
     ]
    }
   ],
   "source": [
    "from sklearn.model_selection import GridSearchCV\n",
    "model = lightgbm.LGBMRegressor()\n",
    "\n",
    "# those are just some example parameters to help you get started!\n",
    "\n",
    "parameters = {\n",
    "    \"objective\": [\"root_mean_squared_error\"],\n",
    "    \"learning_rate\": [0.05, 0.1, 0.15, 0.2],\n",
    "    \"num_leaves\": [30, 40],\n",
    "    \"max_depth\": [10, 20, 30, 40],\n",
    "}\n",
    "\n",
    "model_grid = GridSearchCV(model, parameters, cv=3, verbose=False, scoring='neg_root_mean_squared_error', n_jobs=-1)\n",
    "\n",
    "model_grid.fit(X_train, y_train)\n",
    "\n",
    "print(model_grid.best_score_)\n",
    "print(model_grid.best_params_)\n",
    "print(model_grid.best_estimator_)\n",
    "print(rmse(y_train, model_grid.predict(X_train)))\n",
    "print(rmse(y_test, model_grid.predict(X_test)))"
   ]
  },
  {
   "cell_type": "markdown",
   "metadata": {},
   "source": [
    "## CatBoost"
   ]
  },
  {
   "cell_type": "code",
   "execution_count": 1068,
   "metadata": {},
   "outputs": [
    {
     "name": "stdout",
     "output_type": "stream",
     "text": [
      "18.988314226226926\n",
      "38.10809608409698\n"
     ]
    }
   ],
   "source": [
    "from catboost import CatBoostRegressor \n",
    "cat = CatBoostRegressor(\n",
    "                    iterations=3000,\n",
    "                    depth=10,\n",
    "                    grow_policy='Lossguide',\n",
    "                    verbose=False,\n",
    "                    l2_leaf_reg=1, bagging_temperature=0.8,\n",
    "                    learning_rate=0.08\n",
    "                )\n",
    "\n",
    "cat.fit(X_train, y_train)\n",
    "print(rmse(y_train, cat.predict(X_train)))\n",
    "print(rmse(y_test, cat.predict(X_test)))"
   ]
  },
  {
   "cell_type": "code",
   "execution_count": 1084,
   "metadata": {},
   "outputs": [
    {
     "data": {
      "text/html": [
       "<div>\n",
       "<style scoped>\n",
       "    .dataframe tbody tr th:only-of-type {\n",
       "        vertical-align: middle;\n",
       "    }\n",
       "\n",
       "    .dataframe tbody tr th {\n",
       "        vertical-align: top;\n",
       "    }\n",
       "\n",
       "    .dataframe thead th {\n",
       "        text-align: right;\n",
       "    }\n",
       "</style>\n",
       "<table border=\"1\" class=\"dataframe\">\n",
       "  <thead>\n",
       "    <tr style=\"text-align: right;\">\n",
       "      <th></th>\n",
       "      <th>feature_names</th>\n",
       "      <th>feature_importance</th>\n",
       "    </tr>\n",
       "  </thead>\n",
       "  <tbody>\n",
       "    <tr>\n",
       "      <th>3</th>\n",
       "      <td>facility_type</td>\n",
       "      <td>28.498675</td>\n",
       "    </tr>\n",
       "    <tr>\n",
       "      <th>6</th>\n",
       "      <td>energy_star_rating</td>\n",
       "      <td>23.851024</td>\n",
       "    </tr>\n",
       "    <tr>\n",
       "      <th>4</th>\n",
       "      <td>floor_area</td>\n",
       "      <td>7.756311</td>\n",
       "    </tr>\n",
       "    <tr>\n",
       "      <th>5</th>\n",
       "      <td>year_built</td>\n",
       "      <td>5.863492</td>\n",
       "    </tr>\n",
       "    <tr>\n",
       "      <th>64</th>\n",
       "      <td>floor_area_log</td>\n",
       "      <td>5.028693</td>\n",
       "    </tr>\n",
       "    <tr>\n",
       "      <th>63</th>\n",
       "      <td>year_built_2</td>\n",
       "      <td>4.755519</td>\n",
       "    </tr>\n",
       "    <tr>\n",
       "      <th>70</th>\n",
       "      <td>facility_type_s_Industrial</td>\n",
       "      <td>2.052228</td>\n",
       "    </tr>\n",
       "    <tr>\n",
       "      <th>66</th>\n",
       "      <td>facility_type_s_Commercial</td>\n",
       "      <td>1.444122</td>\n",
       "    </tr>\n",
       "    <tr>\n",
       "      <th>76</th>\n",
       "      <td>facility_type_s_Office</td>\n",
       "      <td>1.441065</td>\n",
       "    </tr>\n",
       "    <tr>\n",
       "      <th>7</th>\n",
       "      <td>ELEVATION</td>\n",
       "      <td>1.346817</td>\n",
       "    </tr>\n",
       "    <tr>\n",
       "      <th>1</th>\n",
       "      <td>State_Factor</td>\n",
       "      <td>1.219088</td>\n",
       "    </tr>\n",
       "    <tr>\n",
       "      <th>2</th>\n",
       "      <td>building_class</td>\n",
       "      <td>0.853632</td>\n",
       "    </tr>\n",
       "    <tr>\n",
       "      <th>61</th>\n",
       "      <td>days_with_fog</td>\n",
       "      <td>0.664632</td>\n",
       "    </tr>\n",
       "    <tr>\n",
       "      <th>62</th>\n",
       "      <td>ELEVATION_log</td>\n",
       "      <td>0.650059</td>\n",
       "    </tr>\n",
       "    <tr>\n",
       "      <th>71</th>\n",
       "      <td>facility_type_s_Laboratory</td>\n",
       "      <td>0.564049</td>\n",
       "    </tr>\n",
       "    <tr>\n",
       "      <th>0</th>\n",
       "      <td>Year_Factor</td>\n",
       "      <td>0.541030</td>\n",
       "    </tr>\n",
       "    <tr>\n",
       "      <th>77</th>\n",
       "      <td>facility_type_s_Parking</td>\n",
       "      <td>0.526226</td>\n",
       "    </tr>\n",
       "    <tr>\n",
       "      <th>45</th>\n",
       "      <td>heating_degree_days</td>\n",
       "      <td>0.422987</td>\n",
       "    </tr>\n",
       "    <tr>\n",
       "      <th>40</th>\n",
       "      <td>november_max_temp</td>\n",
       "      <td>0.390795</td>\n",
       "    </tr>\n",
       "    <tr>\n",
       "      <th>18</th>\n",
       "      <td>april_avg_temp</td>\n",
       "      <td>0.388904</td>\n",
       "    </tr>\n",
       "  </tbody>\n",
       "</table>\n",
       "</div>"
      ],
      "text/plain": [
       "                 feature_names  feature_importance\n",
       "3                facility_type           28.498675\n",
       "6           energy_star_rating           23.851024\n",
       "4                   floor_area            7.756311\n",
       "5                   year_built            5.863492\n",
       "64              floor_area_log            5.028693\n",
       "63                year_built_2            4.755519\n",
       "70  facility_type_s_Industrial            2.052228\n",
       "66  facility_type_s_Commercial            1.444122\n",
       "76      facility_type_s_Office            1.441065\n",
       "7                    ELEVATION            1.346817\n",
       "1                 State_Factor            1.219088\n",
       "2               building_class            0.853632\n",
       "61               days_with_fog            0.664632\n",
       "62               ELEVATION_log            0.650059\n",
       "71  facility_type_s_Laboratory            0.564049\n",
       "0                  Year_Factor            0.541030\n",
       "77     facility_type_s_Parking            0.526226\n",
       "45         heating_degree_days            0.422987\n",
       "40           november_max_temp            0.390795\n",
       "18              april_avg_temp            0.388904"
      ]
     },
     "execution_count": 1084,
     "metadata": {},
     "output_type": "execute_result"
    }
   ],
   "source": [
    "pd.DataFrame({'feature_names': X_train.columns, 'feature_importance':cat.get_feature_importance()}).sort_values(by=['feature_importance'], \n",
    "                                                           ascending=False).head(20)"
   ]
  },
  {
   "cell_type": "markdown",
   "metadata": {},
   "source": [
    "# Make predictions on test data(hold-out dataset)"
   ]
  },
  {
   "cell_type": "code",
   "execution_count": 1013,
   "metadata": {},
   "outputs": [],
   "source": [
    "prediction = model.predict(test_X)"
   ]
  },
  {
   "cell_type": "code",
   "execution_count": 1014,
   "metadata": {},
   "outputs": [],
   "source": [
    "prediction = pd.DataFrame(prediction, columns=['site_eui'])\n",
    "prediction = pd.concat([test_data['id'], prediction], axis=1)\n",
    "prediction.to_csv('prediction.csv', index=False)"
   ]
  },
  {
   "cell_type": "code",
   "execution_count": 1015,
   "metadata": {},
   "outputs": [
    {
     "data": {
      "text/html": [
       "<div>\n",
       "<style scoped>\n",
       "    .dataframe tbody tr th:only-of-type {\n",
       "        vertical-align: middle;\n",
       "    }\n",
       "\n",
       "    .dataframe tbody tr th {\n",
       "        vertical-align: top;\n",
       "    }\n",
       "\n",
       "    .dataframe thead th {\n",
       "        text-align: right;\n",
       "    }\n",
       "</style>\n",
       "<table border=\"1\" class=\"dataframe\">\n",
       "  <thead>\n",
       "    <tr style=\"text-align: right;\">\n",
       "      <th></th>\n",
       "      <th>id</th>\n",
       "      <th>site_eui</th>\n",
       "    </tr>\n",
       "  </thead>\n",
       "  <tbody>\n",
       "    <tr>\n",
       "      <th>0</th>\n",
       "      <td>75757</td>\n",
       "      <td>230.764791</td>\n",
       "    </tr>\n",
       "    <tr>\n",
       "      <th>1</th>\n",
       "      <td>75758</td>\n",
       "      <td>207.808123</td>\n",
       "    </tr>\n",
       "    <tr>\n",
       "      <th>2</th>\n",
       "      <td>75759</td>\n",
       "      <td>202.562198</td>\n",
       "    </tr>\n",
       "    <tr>\n",
       "      <th>3</th>\n",
       "      <td>75760</td>\n",
       "      <td>245.863368</td>\n",
       "    </tr>\n",
       "    <tr>\n",
       "      <th>4</th>\n",
       "      <td>75761</td>\n",
       "      <td>277.267158</td>\n",
       "    </tr>\n",
       "    <tr>\n",
       "      <th>...</th>\n",
       "      <td>...</td>\n",
       "      <td>...</td>\n",
       "    </tr>\n",
       "    <tr>\n",
       "      <th>9700</th>\n",
       "      <td>85457</td>\n",
       "      <td>44.668977</td>\n",
       "    </tr>\n",
       "    <tr>\n",
       "      <th>9701</th>\n",
       "      <td>85458</td>\n",
       "      <td>59.231953</td>\n",
       "    </tr>\n",
       "    <tr>\n",
       "      <th>9702</th>\n",
       "      <td>85459</td>\n",
       "      <td>52.482382</td>\n",
       "    </tr>\n",
       "    <tr>\n",
       "      <th>9703</th>\n",
       "      <td>85460</td>\n",
       "      <td>61.289663</td>\n",
       "    </tr>\n",
       "    <tr>\n",
       "      <th>9704</th>\n",
       "      <td>85461</td>\n",
       "      <td>48.192597</td>\n",
       "    </tr>\n",
       "  </tbody>\n",
       "</table>\n",
       "<p>9705 rows × 2 columns</p>\n",
       "</div>"
      ],
      "text/plain": [
       "         id    site_eui\n",
       "0     75757  230.764791\n",
       "1     75758  207.808123\n",
       "2     75759  202.562198\n",
       "3     75760  245.863368\n",
       "4     75761  277.267158\n",
       "...     ...         ...\n",
       "9700  85457   44.668977\n",
       "9701  85458   59.231953\n",
       "9702  85459   52.482382\n",
       "9703  85460   61.289663\n",
       "9704  85461   48.192597\n",
       "\n",
       "[9705 rows x 2 columns]"
      ]
     },
     "execution_count": 1015,
     "metadata": {},
     "output_type": "execute_result"
    }
   ],
   "source": [
    "prediction"
   ]
  },
  {
   "cell_type": "code",
   "execution_count": null,
   "metadata": {},
   "outputs": [],
   "source": []
  }
 ],
 "metadata": {
  "kernelspec": {
   "display_name": "Python 3 (ipykernel)",
   "language": "python",
   "name": "python3"
  },
  "language_info": {
   "codemirror_mode": {
    "name": "ipython",
    "version": 3
   },
   "file_extension": ".py",
   "mimetype": "text/x-python",
   "name": "python",
   "nbconvert_exporter": "python",
   "pygments_lexer": "ipython3",
   "version": "3.8.12"
  },
  "toc": {
   "base_numbering": 1,
   "nav_menu": {},
   "number_sections": true,
   "sideBar": true,
   "skip_h1_title": false,
   "title_cell": "Table of Contents",
   "title_sidebar": "Contents",
   "toc_cell": false,
   "toc_position": {
    "height": "calc(100% - 180px)",
    "left": "10px",
    "top": "150px",
    "width": "270.391px"
   },
   "toc_section_display": true,
   "toc_window_display": true
  },
  "varInspector": {
   "cols": {
    "lenName": 16,
    "lenType": 16,
    "lenVar": 40
   },
   "kernels_config": {
    "python": {
     "delete_cmd_postfix": "",
     "delete_cmd_prefix": "del ",
     "library": "var_list.py",
     "varRefreshCmd": "print(var_dic_list())"
    },
    "r": {
     "delete_cmd_postfix": ") ",
     "delete_cmd_prefix": "rm(",
     "library": "var_list.r",
     "varRefreshCmd": "cat(var_dic_list()) "
    }
   },
   "types_to_exclude": [
    "module",
    "function",
    "builtin_function_or_method",
    "instance",
    "_Feature"
   ],
   "window_display": false
  }
 },
 "nbformat": 4,
 "nbformat_minor": 4
}
